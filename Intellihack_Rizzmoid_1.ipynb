{
  "nbformat": 4,
  "nbformat_minor": 0,
  "metadata": {
    "colab": {
      "provenance": []
    },
    "kernelspec": {
      "name": "python3",
      "display_name": "Python 3"
    },
    "language_info": {
      "name": "python"
    }
  },
  "cells": [
    {
      "cell_type": "markdown",
      "source": [
        "**Intellihack_Rizzmoid_1**\n",
        "\n",
        "Introduction\n",
        "\n",
        "Solution to the task was implemented using a Decision Tree classifier model. The model is designed to predict the type of crop from a list (wheat, barley, lettuce, spinach, cauliflower, brussels_sprouts, cabbage, beans, peas, turnips, carrots, beets, cherries, plums, raspberries, pears, blackcurrants, strawberries, apples, potatoes, rapeseed, tomatoes) based on various environmental factors such as Nitrogen, Potassium, Phosphurus levels, temperature, humidity, pH level, rainfall, Total nutrients, Temparature Humidity, Log Rainfall."
      ],
      "metadata": {
        "id": "A6RfHkK_M_3w"
      }
    },
    {
      "cell_type": "code",
      "source": [
        "!pip install scikit-learn"
      ],
      "metadata": {
        "colab": {
          "base_uri": "https://localhost:8080/"
        },
        "id": "72k9RV8pxxli",
        "outputId": "581cc869-e2db-4e2b-c244-92e2fdf4bd01"
      },
      "execution_count": 1,
      "outputs": [
        {
          "output_type": "stream",
          "name": "stdout",
          "text": [
            "Requirement already satisfied: scikit-learn in /usr/local/lib/python3.10/dist-packages (1.2.2)\n",
            "Requirement already satisfied: numpy>=1.17.3 in /usr/local/lib/python3.10/dist-packages (from scikit-learn) (1.25.2)\n",
            "Requirement already satisfied: scipy>=1.3.2 in /usr/local/lib/python3.10/dist-packages (from scikit-learn) (1.11.4)\n",
            "Requirement already satisfied: joblib>=1.1.1 in /usr/local/lib/python3.10/dist-packages (from scikit-learn) (1.4.0)\n",
            "Requirement already satisfied: threadpoolctl>=2.0.0 in /usr/local/lib/python3.10/dist-packages (from scikit-learn) (3.5.0)\n"
          ]
        }
      ]
    },
    {
      "cell_type": "markdown",
      "source": [
        "Above command is used to install the scikit-learn library in Python if it's not already installed in your environment."
      ],
      "metadata": {
        "id": "Q21xcirWM9bZ"
      }
    },
    {
      "cell_type": "code",
      "execution_count": 2,
      "metadata": {
        "id": "4JlD5jeEuAUL"
      },
      "outputs": [],
      "source": [
        "\n",
        "from __future__ import print_function\n",
        "import pandas as pd\n",
        "import numpy as np\n",
        "from sklearn.tree import DecisionTreeClassifier\n",
        "from sklearn import metrics\n",
        "\n",
        "df = pd.read_csv(\"Crop_Dataset.csv\")\n",
        "\n",
        "# remove null value records\n",
        "columns_to_check = ['N', 'P', 'K', 'temperature', 'humidity', 'ph', 'rainfall', 'Total_Nutrients', 'Temperature_Humidity', 'Log_Rainfall', 'Label_Encoded']\n",
        "df.dropna(subset=columns_to_check, inplace=True)\n",
        "\n"
      ]
    },
    {
      "cell_type": "markdown",
      "source": [
        "The soultion is implemented using scikit-learn (which is a free and open-source machine learning library) and libraries such as pandas, numpy, ...etc was used. The data set provided was imported to /content directory beforehand and is used in the code.\n",
        "\n",
        "Any records with Null values are dropped from the data set to avoid any inaccuracies and errors"
      ],
      "metadata": {
        "id": "dqMdcLDiOpdQ"
      }
    },
    {
      "cell_type": "code",
      "source": [
        "feature_columns = df[['N', 'P','K','temperature', 'humidity', 'ph', 'rainfall', 'Total_Nutrients', 'Temperature_Humidity', 'Log_Rainfall']]\n",
        "target = df['Label_Encoded']\n",
        "labels = df['Label']\n",
        "crop_types = df['Label'].unique().tolist()\n",
        "\n",
        "\n",
        "acc = []\n",
        "model = []\n",
        "\n",
        "\n",
        "from sklearn.model_selection import train_test_split\n",
        "dftrain, dfeval, y_train, y_eval = train_test_split(feature_columns,target,test_size = 0.2,random_state =2)\n",
        "\n",
        "\n",
        "DecisionTree = DecisionTreeClassifier(criterion=\"entropy\",random_state=2,max_depth=5)\n",
        "\n",
        "DecisionTree.fit(dftrain,y_train)\n",
        "\n",
        "\n",
        "\n",
        "predicted_values = DecisionTree.predict(dfeval)\n",
        "x = metrics.accuracy_score(y_eval, predicted_values)\n",
        "acc.append(x)\n",
        "model.append('Decision Tree')\n",
        "print(\"DecisionTrees's Accuracy is: \", x*100)\n"
      ],
      "metadata": {
        "colab": {
          "base_uri": "https://localhost:8080/"
        },
        "id": "bDDQ5MSSC-iM",
        "outputId": "888adced-9063-4a4b-8d0d-5ff3b7a43930"
      },
      "execution_count": 3,
      "outputs": [
        {
          "output_type": "stream",
          "name": "stdout",
          "text": [
            "DecisionTrees's Accuracy is:  89.77272727272727\n"
          ]
        }
      ]
    },
    {
      "cell_type": "markdown",
      "source": [
        "The feature columns (N, P, K, temperature, humidity, ph, rainfall, Total_Nutrients, Temperature_Humidity, Log_Rainfall) were selected as input features for the model.\n",
        "\n",
        "The target variable was defined as Label_Encoded, representing the encoded labels for different crop types.\n",
        "\n",
        "The dataset was split into training and evaluation sets using an 80-20 ratio.\n",
        "\n",
        "A Decision Tree classifier was instantiated with parameters:\n",
        "\n",
        "  - Criterion: \"entropy\"\n",
        "\n",
        "  - Random State: 2\n",
        "\n",
        "  - Maximum Depth: 5\n",
        "\n",
        "The model was trained on the training dataset using the fit() function.\n",
        "\n",
        "The trained model was used to predict crop types for the evaluation dataset."
      ],
      "metadata": {
        "id": "BmtTSesQPTzl"
      }
    },
    {
      "cell_type": "code",
      "source": [
        "import joblib\n",
        "joblib.dump(DecisionTree, 'DescisionTreeModel')"
      ],
      "metadata": {
        "colab": {
          "base_uri": "https://localhost:8080/"
        },
        "id": "gIck3xf9HZ87",
        "outputId": "0e043406-9c79-4d3c-adda-179d541bdfd2"
      },
      "execution_count": 11,
      "outputs": [
        {
          "output_type": "execute_result",
          "data": {
            "text/plain": [
              "['DescisionTreeModel']"
            ]
          },
          "metadata": {},
          "execution_count": 11
        }
      ]
    },
    {
      "cell_type": "code",
      "source": [
        "loadedModel = joblib.load('/content/DescisionTreeModel')"
      ],
      "metadata": {
        "id": "BZGDCQBPH64r"
      },
      "execution_count": 12,
      "outputs": []
    },
    {
      "cell_type": "code",
      "source": [
        "import warnings\n",
        "warnings.filterwarnings('ignore')\n",
        "\n",
        "N = 67\n",
        "P = 51\n",
        "K = 24\n",
        "temperature = 23.50297882\n",
        "humidity = 61.32026065\n",
        "ph = 5.584171461\n",
        "rainfall = 64.77791424\n",
        "Total_Nutrients = 142\n",
        "Temperature_Humidity = 1441.208787\n",
        "Log_Rainfall = 4.186284132\n",
        "\n",
        "data = np.array([[N,P, K, temperature, humidity, ph, rainfall, Total_Nutrients, Temperature_Humidity, Log_Rainfall]])\n",
        "\n",
        "prediction = loadedModel.predict(data)\n",
        "# print(prediction)\n",
        "# print(crop_types)\n",
        "print(crop_types[prediction[0]])\n"
      ],
      "metadata": {
        "colab": {
          "base_uri": "https://localhost:8080/"
        },
        "id": "ECkv4stNIEXq",
        "outputId": "64193e3e-4d4c-4f71-da3b-55d74cb6b6df"
      },
      "execution_count": 19,
      "outputs": [
        {
          "output_type": "stream",
          "name": "stdout",
          "text": [
            "barley\n"
          ]
        }
      ]
    },
    {
      "cell_type": "markdown",
      "source": [
        "A joblib model (.joblib) was created from the trained model as DescisionTreeModel.\n",
        "\n",
        "A prediction was made using the loaded DescisionTreeModel\n",
        "\n",
        "For the above test, the variables of the 164th record in the Crop_Dataset.csv file was used and the model predicted that the most suitable crop type was barley which was accurate with the record details"
      ],
      "metadata": {
        "id": "SFm609z8QdN7"
      }
    },
    {
      "cell_type": "markdown",
      "source": [
        "**Challenges Faced**\n",
        "\n",
        "- Choosing the appropriate model and hyperparameters required experimentation and evaluation.\n",
        "- Selecting suitable evaluation metrics to assess model performance accurately was challenging.\n",
        "\n",
        "**Future Improvements**\n",
        "\n",
        "- Further experimentation with different hyperparameters could potentially improve model performance."
      ],
      "metadata": {
        "id": "rGIM-OhRRPk3"
      }
    },
    {
      "cell_type": "markdown",
      "source": [
        "**Instructions to run Model**\n",
        "\n",
        "The Model was coded in Google Collab. To run in Google Collab, import the Crop_dataset.csv to /content/directory and run the individual cells in order\n",
        "\n",
        "T"
      ],
      "metadata": {
        "id": "GEqbVWMlRow9"
      }
    }
  ]
}