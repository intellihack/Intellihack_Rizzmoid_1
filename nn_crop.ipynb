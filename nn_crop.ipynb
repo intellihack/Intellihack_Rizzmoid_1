{
 "cells": [
  {
   "cell_type": "code",
   "execution_count": 1,
   "id": "initial_id",
   "metadata": {
    "collapsed": true,
    "ExecuteTime": {
     "end_time": "2024-05-04T07:55:39.738469Z",
     "start_time": "2024-05-04T07:55:38.849693Z"
    }
   },
   "outputs": [
    {
     "data": {
      "text/plain": "((1980, 12), (220, 12))"
     },
     "execution_count": 1,
     "metadata": {},
     "output_type": "execute_result"
    }
   ],
   "source": [
    "import pandas as pd\n",
    "\n",
    "data = pd.read_csv('Crop_Dataset.csv')\n",
    "\n",
    "from sklearn.model_selection import train_test_split\n",
    "\n",
    "train_data, test_data = train_test_split(data, train_size=0.9, random_state=42)\n",
    "\n",
    "train_data.shape, test_data.shape"
   ]
  },
  {
   "cell_type": "code",
   "execution_count": 2,
   "outputs": [
    {
     "data": {
      "text/plain": "22"
     },
     "execution_count": 2,
     "metadata": {},
     "output_type": "execute_result"
    }
   ],
   "source": [
    "n_classes = len(data['Label_Encoded'].unique())\n",
    "n_classes"
   ],
   "metadata": {
    "collapsed": false,
    "ExecuteTime": {
     "end_time": "2024-05-04T07:55:39.743064Z",
     "start_time": "2024-05-04T07:55:39.740418Z"
    }
   },
   "id": "134db0c50579d075"
  },
  {
   "cell_type": "code",
   "execution_count": 3,
   "outputs": [
    {
     "name": "stdout",
     "output_type": "stream",
     "text": [
      "Using cpu device\n"
     ]
    }
   ],
   "source": [
    "import torch\n",
    "\n",
    "device = (\n",
    "    \"mps\" if torch.cuda.is_available() else \"cpu\"\n",
    ")\n",
    "print(f\"Using {device} device\")"
   ],
   "metadata": {
    "collapsed": false,
    "ExecuteTime": {
     "end_time": "2024-05-04T07:55:40.631930Z",
     "start_time": "2024-05-04T07:55:39.744060Z"
    }
   },
   "id": "25c98d5511cd1168"
  },
  {
   "cell_type": "code",
   "execution_count": 4,
   "outputs": [],
   "source": [
    "from torch.utils.data import Dataset\n",
    "\n",
    "class CustomDataset(Dataset):\n",
    "    def __init__(self, data):\n",
    "        self.inputs = data.iloc[:, 0:-2].values.astype('float32')\n",
    "        self.outputs = data.iloc[:, -1].values.astype('int')\n",
    "\n",
    "    def __getitem__(self, index):\n",
    "        return self.inputs[index], self.outputs[index]\n",
    "\n",
    "    def __len__(self):\n",
    "        return len(self.inputs)"
   ],
   "metadata": {
    "collapsed": false,
    "ExecuteTime": {
     "end_time": "2024-05-04T07:55:40.636755Z",
     "start_time": "2024-05-04T07:55:40.633295Z"
    }
   },
   "id": "6f491ad7458c9537"
  },
  {
   "cell_type": "code",
   "execution_count": 5,
   "outputs": [],
   "source": [
    "batch_size = 64\n",
    "\n",
    "train_data_loader = torch.utils.data.DataLoader(CustomDataset(train_data), batch_size=batch_size, shuffle=True)\n",
    "test_data_loader = torch.utils.data.DataLoader(CustomDataset(test_data), batch_size=batch_size, shuffle=True)"
   ],
   "metadata": {
    "collapsed": false,
    "ExecuteTime": {
     "end_time": "2024-05-04T07:55:40.642262Z",
     "start_time": "2024-05-04T07:55:40.637131Z"
    }
   },
   "id": "97345e2e0fba23c6"
  },
  {
   "cell_type": "code",
   "execution_count": 6,
   "outputs": [],
   "source": [
    "import torch.nn as nn\n",
    "\n",
    "class NeuralNetwork(nn.Module):\n",
    "    def __init__(self):\n",
    "        super().__init__()\n",
    "        self.linear_relu_stack = nn.Sequential(\n",
    "            nn.Linear(10, 512),\n",
    "            nn.ReLU(),\n",
    "            nn.Linear(512, 512),\n",
    "            nn.ReLU(),\n",
    "            nn.Linear(512, 22),\n",
    "            nn.Sigmoid()\n",
    "        )\n",
    "\n",
    "    def forward(self, x):\n",
    "        logits = self.linear_relu_stack(x)\n",
    "        return logits"
   ],
   "metadata": {
    "collapsed": false,
    "ExecuteTime": {
     "end_time": "2024-05-04T07:55:40.646465Z",
     "start_time": "2024-05-04T07:55:40.641121Z"
    }
   },
   "id": "c232c3144a1df0d6"
  },
  {
   "cell_type": "code",
   "execution_count": 7,
   "outputs": [
    {
     "name": "stdout",
     "output_type": "stream",
     "text": [
      "NeuralNetwork(\n",
      "  (linear_relu_stack): Sequential(\n",
      "    (0): Linear(in_features=10, out_features=512, bias=True)\n",
      "    (1): ReLU()\n",
      "    (2): Linear(in_features=512, out_features=512, bias=True)\n",
      "    (3): ReLU()\n",
      "    (4): Linear(in_features=512, out_features=22, bias=True)\n",
      "    (5): Sigmoid()\n",
      "  )\n",
      ")\n"
     ]
    }
   ],
   "source": [
    "model = NeuralNetwork().to(device)\n",
    "print(model)"
   ],
   "metadata": {
    "collapsed": false,
    "ExecuteTime": {
     "end_time": "2024-05-04T07:55:40.673152Z",
     "start_time": "2024-05-04T07:55:40.644272Z"
    }
   },
   "id": "c272fb94daa41e97"
  },
  {
   "cell_type": "code",
   "execution_count": 8,
   "outputs": [
    {
     "name": "stdout",
     "output_type": "stream",
     "text": [
      "Predicted class: tensor([19])\n"
     ]
    }
   ],
   "source": [
    "# testing predictions\n",
    "\n",
    "_X = torch.rand(1, 10, device=device)\n",
    "logits = model(_X)\n",
    "predicted_prob = nn.Softmax(dim=1)(logits)\n",
    "y_pred = predicted_prob.argmax(1)\n",
    "print(f\"Predicted class: {y_pred}\")"
   ],
   "metadata": {
    "collapsed": false,
    "ExecuteTime": {
     "end_time": "2024-05-04T07:55:40.695352Z",
     "start_time": "2024-05-04T07:55:40.657116Z"
    }
   },
   "id": "100378c7ad3a6a73"
  },
  {
   "cell_type": "code",
   "execution_count": 9,
   "outputs": [],
   "source": [
    "learning_rate = 1e-3\n",
    "batch_size = 64\n",
    "epochs = 50\n",
    "\n",
    "loss_fn = nn.CrossEntropyLoss()\n",
    "\n",
    "optimizer = torch.optim.SGD(model.parameters(), lr=learning_rate)"
   ],
   "metadata": {
    "collapsed": false,
    "ExecuteTime": {
     "end_time": "2024-05-04T07:55:40.695516Z",
     "start_time": "2024-05-04T07:55:40.683443Z"
    }
   },
   "id": "4993b936e24ca0f3"
  },
  {
   "cell_type": "code",
   "execution_count": 10,
   "outputs": [
    {
     "name": "stderr",
     "output_type": "stream",
     "text": [
      "\u001B[34m\u001B[1mwandb\u001B[0m: Currently logged in as: \u001B[33mlakshith\u001B[0m. Use \u001B[1m`wandb login --relogin`\u001B[0m to force relogin\n"
     ]
    },
    {
     "data": {
      "text/plain": "<IPython.core.display.HTML object>",
      "text/html": "wandb version 0.16.6 is available!  To upgrade, please run:\n $ pip install wandb --upgrade"
     },
     "metadata": {},
     "output_type": "display_data"
    },
    {
     "data": {
      "text/plain": "<IPython.core.display.HTML object>",
      "text/html": "Tracking run with wandb version 0.16.3"
     },
     "metadata": {},
     "output_type": "display_data"
    },
    {
     "data": {
      "text/plain": "<IPython.core.display.HTML object>",
      "text/html": "Run data is saved locally in <code>/Users/lakshithnishshanke/Developer/Intellihack/Intellihack_Rizzmoid_1/wandb/run-20240504_132541-9w9lz4fe</code>"
     },
     "metadata": {},
     "output_type": "display_data"
    },
    {
     "data": {
      "text/plain": "<IPython.core.display.HTML object>",
      "text/html": "Syncing run <strong><a href='http://localhost:8080/lakshith/Intellihack_1/runs/9w9lz4fe' target=\"_blank\">stellar-bothan-1</a></strong> to <a href='http://localhost:8080/lakshith/Intellihack_1' target=\"_blank\">Weights & Biases</a> (<a href='https://wandb.me/run' target=\"_blank\">docs</a>)<br/>"
     },
     "metadata": {},
     "output_type": "display_data"
    },
    {
     "data": {
      "text/plain": "<IPython.core.display.HTML object>",
      "text/html": " View project at <a href='http://localhost:8080/lakshith/Intellihack_1' target=\"_blank\">http://localhost:8080/lakshith/Intellihack_1</a>"
     },
     "metadata": {},
     "output_type": "display_data"
    },
    {
     "data": {
      "text/plain": "<IPython.core.display.HTML object>",
      "text/html": " View run at <a href='http://localhost:8080/lakshith/Intellihack_1/runs/9w9lz4fe' target=\"_blank\">http://localhost:8080/lakshith/Intellihack_1/runs/9w9lz4fe</a>"
     },
     "metadata": {},
     "output_type": "display_data"
    },
    {
     "data": {
      "text/html": "<button onClick=\"this.nextSibling.style.display='block';this.style.display='none';\">Display W&B run</button><iframe src='http://localhost:8080/lakshith/Intellihack_1/runs/9w9lz4fe?jupyter=true' style='border:none;width:100%;height:420px;display:none;'></iframe>",
      "text/plain": "<wandb.sdk.wandb_run.Run at 0x15a14c6d0>"
     },
     "execution_count": 10,
     "metadata": {},
     "output_type": "execute_result"
    }
   ],
   "source": [
    "import wandb\n",
    "\n",
    "configs = {\n",
    "    \"learning_rate\": learning_rate,\n",
    "    \"architecture\": \"ANN\",\n",
    "    \"dataset\": \"Crop\",\n",
    "    \"epochs\": epochs,\n",
    "    \"batch_size\": batch_size\n",
    "}\n",
    "\n",
    "wandb.init(\n",
    "    project=\"Intellihack_1\",\n",
    "    config=configs\n",
    ")"
   ],
   "metadata": {
    "collapsed": false,
    "ExecuteTime": {
     "end_time": "2024-05-04T07:55:43.769813Z",
     "start_time": "2024-05-04T07:55:40.688851Z"
    }
   },
   "id": "3f08bf8faaddb863"
  },
  {
   "cell_type": "code",
   "execution_count": 11,
   "outputs": [],
   "source": [
    "def train_loop(dataloader):\n",
    "    size = len(dataloader.dataset)\n",
    "    model.train()\n",
    "    for batch, (X, y) in enumerate(dataloader):\n",
    "        # Compute prediction and loss\n",
    "        pred = model(X)\n",
    "        loss = loss_fn(pred, y)\n",
    "\n",
    "        # Backpropagation\n",
    "        loss.backward()\n",
    "        optimizer.step()\n",
    "        optimizer.zero_grad()\n",
    "\n",
    "        loss, current = loss.item(), batch * batch_size + len(X)\n",
    "        \n",
    "        wandb.log({\n",
    "            \"Loss\": loss\n",
    "        })\n",
    "        print(f\"\\rloss: {loss:>7f}  [{current:>5d}/{size:>5d}]\", end=\"\")"
   ],
   "metadata": {
    "collapsed": false,
    "ExecuteTime": {
     "end_time": "2024-05-04T07:55:43.808630Z",
     "start_time": "2024-05-04T07:55:43.770570Z"
    }
   },
   "id": "263db61f89b14c2c"
  },
  {
   "cell_type": "code",
   "execution_count": 12,
   "outputs": [],
   "source": [
    "def test_loop(dataloader):\n",
    "    model.eval()\n",
    "    size = len(dataloader.dataset)\n",
    "    num_batches = len(dataloader)\n",
    "    test_loss, correct = 0, 0\n",
    "\n",
    "    with torch.no_grad():\n",
    "        for X, y in dataloader:\n",
    "            pred = model(X)\n",
    "            test_loss += loss_fn(pred, y).item()\n",
    "            correct += (pred.argmax(1) == y).type(torch.float).sum().item()\n",
    "\n",
    "    test_loss /= num_batches\n",
    "    correct /= size\n",
    "    \n",
    "    print({\"test_loss\": test_loss, \"test_acc\": correct})"
   ],
   "metadata": {
    "collapsed": false,
    "ExecuteTime": {
     "end_time": "2024-05-04T07:55:43.809845Z",
     "start_time": "2024-05-04T07:55:43.775249Z"
    }
   },
   "id": "7a025d958375368f"
  },
  {
   "cell_type": "code",
   "execution_count": 12,
   "outputs": [],
   "source": [],
   "metadata": {
    "collapsed": false,
    "ExecuteTime": {
     "end_time": "2024-05-04T07:55:43.809970Z",
     "start_time": "2024-05-04T07:55:43.782317Z"
    }
   },
   "id": "919104987103baeb"
  },
  {
   "cell_type": "code",
   "execution_count": 13,
   "outputs": [
    {
     "name": "stdout",
     "output_type": "stream",
     "text": [
      "Epoch 1\n",
      "-------------------------------\n",
      "\n",
      "loss: 3.192411  [ 1980/ 1980]{'test_loss': 3.176541745662689, 'test_acc': 0.05454545454545454}\n",
      "Epoch 2\n",
      "-------------------------------\n",
      "\n",
      "loss: 3.201802  [ 1980/ 1980]{'test_loss': 3.1726194024086, 'test_acc': 0.05454545454545454}\n",
      "Epoch 3\n",
      "-------------------------------\n",
      "\n",
      "loss: 3.167632  [ 1980/ 1980]{'test_loss': 3.1824839115142822, 'test_acc': 0.05454545454545454}\n",
      "Epoch 4\n",
      "-------------------------------\n",
      "\n",
      "loss: 3.093004  [ 1980/ 1980]{'test_loss': 3.131054401397705, 'test_acc': 0.05454545454545454}\n",
      "Epoch 5\n",
      "-------------------------------\n",
      "\n",
      "loss: 3.156684  [ 1980/ 1980]{'test_loss': 3.13827246427536, 'test_acc': 0.05454545454545454}\n",
      "Epoch 6\n",
      "-------------------------------\n",
      "\n",
      "loss: 3.160964  [ 1980/ 1980]{'test_loss': 3.1212083101272583, 'test_acc': 0.05454545454545454}\n",
      "Epoch 7\n",
      "-------------------------------\n",
      "\n",
      "loss: 3.175401  [ 1980/ 1980]{'test_loss': 3.130158305168152, 'test_acc': 0.05454545454545454}\n",
      "Epoch 8\n",
      "-------------------------------\n",
      "\n",
      "loss: 3.122089  [ 1980/ 1980]{'test_loss': 3.115794837474823, 'test_acc': 0.05454545454545454}\n",
      "Epoch 9\n",
      "-------------------------------\n",
      "\n",
      "loss: 3.113502  [ 1980/ 1980]{'test_loss': 3.134835660457611, 'test_acc': 0.05454545454545454}\n",
      "Epoch 10\n",
      "-------------------------------\n",
      "\n",
      "loss: 3.112721  [ 1980/ 1980]{'test_loss': 3.1205215454101562, 'test_acc': 0.05454545454545454}\n",
      "Epoch 11\n",
      "-------------------------------\n",
      "\n",
      "loss: 3.140057  [ 1980/ 1980]{'test_loss': 3.1293476819992065, 'test_acc': 0.05454545454545454}\n",
      "Epoch 12\n",
      "-------------------------------\n",
      "\n",
      "loss: 3.225076  [ 1980/ 1980]{'test_loss': 3.1245129108428955, 'test_acc': 0.05454545454545454}\n",
      "Epoch 13\n",
      "-------------------------------\n",
      "\n",
      "loss: 3.156817  [ 1980/ 1980]{'test_loss': 3.125029981136322, 'test_acc': 0.05454545454545454}\n",
      "Epoch 14\n",
      "-------------------------------\n",
      "\n",
      "loss: 3.182420  [ 1980/ 1980]{'test_loss': 3.1195173859596252, 'test_acc': 0.05454545454545454}\n",
      "Epoch 15\n",
      "-------------------------------\n",
      "\n",
      "loss: 2.980843  [ 1980/ 1980]{'test_loss': 3.129662811756134, 'test_acc': 0.05454545454545454}\n",
      "Epoch 16\n",
      "-------------------------------\n",
      "\n",
      "loss: 3.093396  [ 1980/ 1980]{'test_loss': 3.1348190903663635, 'test_acc': 0.05454545454545454}\n",
      "Epoch 17\n",
      "-------------------------------\n",
      "\n",
      "loss: 3.106698  [ 1980/ 1980]{'test_loss': 3.13053959608078, 'test_acc': 0.05454545454545454}\n",
      "Epoch 18\n",
      "-------------------------------\n",
      "loss: 3.153617  [ 1980/ 1980]{'test_loss': 3.1238187551498413, 'test_acc': 0.05454545454545454}\n",
      "Epoch 19\n",
      "-------------------------------\n",
      "\n",
      "loss: 3.040159  [ 1980/ 1980]{'test_loss': 3.124797761440277, 'test_acc': 0.05454545454545454}\n",
      "Epoch 20\n",
      "-------------------------------\n",
      "\n",
      "loss: 3.160007  [ 1980/ 1980]{'test_loss': 3.1397683024406433, 'test_acc': 0.05454545454545454}\n",
      "Epoch 21\n",
      "-------------------------------\n",
      "\n",
      "loss: 3.024533  [ 1980/ 1980]{'test_loss': 3.120924413204193, 'test_acc': 0.05454545454545454}\n",
      "Epoch 22\n",
      "-------------------------------\n",
      "\n",
      "loss: 3.174442  [ 1980/ 1980]{'test_loss': 3.1097636818885803, 'test_acc': 0.05454545454545454}\n",
      "Epoch 23\n",
      "-------------------------------\n",
      "\n",
      "loss: 3.058142  [ 1980/ 1980]{'test_loss': 3.1153711676597595, 'test_acc': 0.05454545454545454}\n",
      "Epoch 24\n",
      "-------------------------------\n",
      "\n",
      "loss: 3.129042  [ 1980/ 1980]{'test_loss': 3.135006010532379, 'test_acc': 0.05454545454545454}\n",
      "Epoch 25\n",
      "-------------------------------\n",
      "\n",
      "loss: 3.205338  [ 1980/ 1980]{'test_loss': 3.118685722351074, 'test_acc': 0.05454545454545454}\n",
      "Epoch 26\n",
      "-------------------------------\n",
      "\n",
      "loss: 3.074521  [ 1980/ 1980]{'test_loss': 3.134380578994751, 'test_acc': 0.05454545454545454}\n",
      "Epoch 27\n",
      "-------------------------------\n",
      "\n",
      "loss: 3.075570  [ 1980/ 1980]{'test_loss': 3.097269892692566, 'test_acc': 0.05454545454545454}\n",
      "Epoch 28\n",
      "-------------------------------\n",
      "\n",
      "loss: 3.132355  [ 1980/ 1980]{'test_loss': 3.1147903203964233, 'test_acc': 0.05454545454545454}\n",
      "Epoch 29\n",
      "-------------------------------\n",
      "\n",
      "loss: 3.140110  [ 1980/ 1980]{'test_loss': 3.1247523427009583, 'test_acc': 0.05454545454545454}\n",
      "Epoch 30\n",
      "-------------------------------\n",
      "\n",
      "loss: 3.124024  [ 1980/ 1980]{'test_loss': 3.114721715450287, 'test_acc': 0.05454545454545454}\n",
      "Epoch 31\n",
      "-------------------------------\n",
      "\n",
      "loss: 3.159804  [ 1980/ 1980]{'test_loss': 3.1092763543128967, 'test_acc': 0.05454545454545454}\n",
      "Epoch 32\n",
      "-------------------------------\n",
      "\n",
      "loss: 3.171336  [ 1980/ 1980]{'test_loss': 3.114393472671509, 'test_acc': 0.05454545454545454}\n",
      "Epoch 33\n",
      "-------------------------------\n",
      "\n",
      "loss: 3.122899  [ 1980/ 1980]{'test_loss': 3.1194328665733337, 'test_acc': 0.05454545454545454}\n",
      "Epoch 34\n",
      "-------------------------------\n",
      "\n",
      "loss: 3.153619  [ 1980/ 1980]{'test_loss': 3.1388957500457764, 'test_acc': 0.05454545454545454}\n",
      "Epoch 35\n",
      "-------------------------------\n",
      "\n",
      "loss: 3.121201  [ 1980/ 1980]{'test_loss': 3.115032136440277, 'test_acc': 0.05454545454545454}\n",
      "Epoch 36\n",
      "-------------------------------\n",
      "\n",
      "loss: 3.105847  [ 1980/ 1980]{'test_loss': 3.1089783310890198, 'test_acc': 0.05454545454545454}\n",
      "Epoch 37\n",
      "-------------------------------\n",
      "\n",
      "loss: 3.192190  [ 1980/ 1980]{'test_loss': 3.139787197113037, 'test_acc': 0.05454545454545454}\n",
      "Epoch 38\n",
      "-------------------------------\n",
      "\n",
      "loss: 3.074291  [ 1980/ 1980]{'test_loss': 3.1092671751976013, 'test_acc': 0.05454545454545454}\n",
      "Epoch 39\n",
      "-------------------------------\n",
      "loss: 3.222297  [ 1980/ 1980]{'test_loss': 3.1191877126693726, 'test_acc': 0.05454545454545454}\n",
      "Epoch 40\n",
      "-------------------------------\n",
      "\n",
      "loss: 3.204760  [ 1980/ 1980]{'test_loss': 3.1289972066879272, 'test_acc': 0.05454545454545454}\n",
      "Epoch 41\n",
      "-------------------------------\n",
      "\n",
      "loss: 3.220557  [ 1980/ 1980]{'test_loss': 3.1270810961723328, 'test_acc': 0.05454545454545454}\n",
      "Epoch 42\n",
      "-------------------------------\n",
      "\n",
      "loss: 3.037153  [ 1980/ 1980]{'test_loss': 3.122030794620514, 'test_acc': 0.05454545454545454}\n",
      "Epoch 43\n",
      "-------------------------------\n",
      "\n",
      "loss: 3.104089  [ 1980/ 1980]{'test_loss': 3.107082784175873, 'test_acc': 0.05454545454545454}\n",
      "Epoch 44\n",
      "-------------------------------\n",
      "\n",
      "loss: 3.105279  [ 1980/ 1980]{'test_loss': 3.116712272167206, 'test_acc': 0.05454545454545454}\n",
      "Epoch 45\n",
      "-------------------------------\n",
      "\n",
      "loss: 3.170793  [ 1980/ 1980]{'test_loss': 3.1218642592430115, 'test_acc': 0.05454545454545454}\n",
      "Epoch 46\n",
      "-------------------------------\n",
      "\n",
      "loss: 3.025308  [ 1980/ 1980]{'test_loss': 3.122525632381439, 'test_acc': 0.05454545454545454}\n",
      "Epoch 47\n",
      "-------------------------------\n",
      "\n",
      "loss: 3.139245  [ 1980/ 1980]{'test_loss': 3.1162191033363342, 'test_acc': 0.05454545454545454}\n",
      "Epoch 48\n",
      "-------------------------------\n",
      "\n",
      "loss: 3.171134  [ 1980/ 1980]{'test_loss': 3.131170332431793, 'test_acc': 0.05454545454545454}\n",
      "Epoch 49\n",
      "-------------------------------\n",
      "\n",
      "loss: 3.153870  [ 1980/ 1980]{'test_loss': 3.116297960281372, 'test_acc': 0.05454545454545454}\n",
      "Epoch 50\n",
      "-------------------------------\n",
      "\n",
      "loss: 3.137306  [ 1980/ 1980]{'test_loss': 3.1263891458511353, 'test_acc': 0.05454545454545454}\n"
     ]
    }
   ],
   "source": [
    "for t in range(epochs):\n",
    "    print(f\"Epoch {t+1}\\n-------------------------------\")\n",
    "    print(\"\")\n",
    "    train_loop(train_data_loader)\n",
    "    test_loop(test_data_loader)"
   ],
   "metadata": {
    "collapsed": false,
    "ExecuteTime": {
     "end_time": "2024-05-04T07:55:47.084243Z",
     "start_time": "2024-05-04T07:55:43.800852Z"
    }
   },
   "id": "d2e4f33c43d0c1a9"
  },
  {
   "cell_type": "code",
   "execution_count": 13,
   "outputs": [],
   "source": [],
   "metadata": {
    "collapsed": false,
    "ExecuteTime": {
     "end_time": "2024-05-04T07:55:47.090703Z",
     "start_time": "2024-05-04T07:55:47.085358Z"
    }
   },
   "id": "7407f43db66dadc0"
  }
 ],
 "metadata": {
  "kernelspec": {
   "display_name": "Python 3",
   "language": "python",
   "name": "python3"
  },
  "language_info": {
   "codemirror_mode": {
    "name": "ipython",
    "version": 2
   },
   "file_extension": ".py",
   "mimetype": "text/x-python",
   "name": "python",
   "nbconvert_exporter": "python",
   "pygments_lexer": "ipython2",
   "version": "2.7.6"
  }
 },
 "nbformat": 4,
 "nbformat_minor": 5
}
